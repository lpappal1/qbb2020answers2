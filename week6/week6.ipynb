{
 "cells": [
  {
   "cell_type": "code",
   "execution_count": null,
   "metadata": {},
   "outputs": [],
   "source": [
    "# pseudo code:\n",
    "# compare the coordinates from the reference file to the bisulfite file\n",
    "# if they match, then compare the column with the methylation signal from ref, obtain number\n",
    "# obtain number from the bisulfite file \n",
    "# find the percent change between the numbers \n",
    "# if percent change is > 0, then extract the gene name and add to list"
   ]
  },
  {
   "cell_type": "code",
   "execution_count": 6,
   "metadata": {},
   "outputs": [
    {
     "ename": "IndexError",
     "evalue": "list index out of range",
     "output_type": "error",
     "traceback": [
      "\u001b[0;31m---------------------------------------------------------------------------\u001b[0m",
      "\u001b[0;31mIndexError\u001b[0m                                Traceback (most recent call last)",
      "\u001b[0;32m<ipython-input-6-3979b7d1d63d>\u001b[0m in \u001b[0;36m<module>\u001b[0;34m()\u001b[0m\n\u001b[1;32m     12\u001b[0m \u001b[0;32mfor\u001b[0m \u001b[0mrow2\u001b[0m \u001b[0;32min\u001b[0m \u001b[0mcoordinates\u001b[0m\u001b[0;34m:\u001b[0m\u001b[0;34m\u001b[0m\u001b[0;34m\u001b[0m\u001b[0m\n\u001b[1;32m     13\u001b[0m     \u001b[0mcol2\u001b[0m \u001b[0;34m=\u001b[0m \u001b[0mrow2\u001b[0m\u001b[0;34m.\u001b[0m\u001b[0msplit\u001b[0m\u001b[0;34m(\u001b[0m\u001b[0;34m\" \"\u001b[0m\u001b[0;34m)\u001b[0m\u001b[0;34m\u001b[0m\u001b[0;34m\u001b[0m\u001b[0m\n\u001b[0;32m---> 14\u001b[0;31m     \u001b[0mlow\u001b[0m \u001b[0;34m=\u001b[0m \u001b[0mcol2\u001b[0m\u001b[0;34m[\u001b[0m\u001b[0;36m4\u001b[0m\u001b[0;34m]\u001b[0m\u001b[0;34m\u001b[0m\u001b[0;34m\u001b[0m\u001b[0m\n\u001b[0m\u001b[1;32m     15\u001b[0m     \u001b[0mhigh\u001b[0m \u001b[0;34m=\u001b[0m \u001b[0mcol2\u001b[0m\u001b[0;34m[\u001b[0m\u001b[0;36m5\u001b[0m\u001b[0;34m]\u001b[0m\u001b[0;34m\u001b[0m\u001b[0;34m\u001b[0m\u001b[0m\n\u001b[1;32m     16\u001b[0m     \u001b[0mgene\u001b[0m \u001b[0;34m=\u001b[0m \u001b[0mcol2\u001b[0m\u001b[0;34m[\u001b[0m\u001b[0;36m1\u001b[0m\u001b[0;34m]\u001b[0m\u001b[0;34m\u001b[0m\u001b[0;34m\u001b[0m\u001b[0m\n",
      "\u001b[0;31mIndexError\u001b[0m: list index out of range"
     ]
    }
   ],
   "source": [
    "# You need to add the methylations for a gene together from different sites\n",
    "# to find the mean difference\n",
    "\n",
    "E4= open(\"/Users/cmdb/qbb2020answers2/week6/SRR3083926_1.chr6_sorted.bedGraph\")\n",
    "E5= open(\"/Users/cmdb/qbb2020answers2/week6/SRR3083929_1.chr6_sorted.bedGraph\")\n",
    "coordinates= open(\"/Users/cmdb/qbb2020answers2/week6/mm10_refseq_genes_chr6_50M_60M.bed\")\n",
    "\n",
    "meths = 0\n",
    "master=[]\n",
    "dictionary = {}\n",
    "\n",
    "for row2 in coordinates:\n",
    "    col2 = row2.split(\" \")\n",
    "    low = col2[4]\n",
    "    high = col2[5]\n",
    "    gene = col2[1]\n",
    "    sublist = [] #I want to append to this list for each location found in the file, later I would like to add this list as the values to a dictionary for each gene\n",
    "    for row in E4:\n",
    "        col = row.split(\" \")\n",
    "        loc = col[1]\n",
    "        meth = col[3]\n",
    "        if meth >0:\n",
    "            meths = meths +1\n",
    "            if high>loc and loc>low:\n",
    "                sublist.append[meth]\n",
    "        \n",
    "        dictionary[gene] = sublist\n",
    "            \n",
    "print(dictionary)\n",
    "\n"
   ]
  },
  {
   "cell_type": "code",
   "execution_count": 3,
   "metadata": {},
   "outputs": [
    {
     "name": "stdout",
     "output_type": "stream",
     "text": [
      "{'A': '3', 'B': ['5', '6']}\n"
     ]
    }
   ],
   "source": [
    "value = \"3\"\n",
    "newvalue = \"4\"\n",
    "demolist = [\"5\", \"6\"]\n",
    "newdic = {\"A\":\"1\", \"B\":\"2\"}\n",
    "\n",
    "newdic[\"A\"] = value\n",
    "newdic[\"B\"] = demolist\n",
    "\n",
    "\n",
    "print(newdic)"
   ]
  },
  {
   "cell_type": "code",
   "execution_count": null,
   "metadata": {},
   "outputs": [],
   "source": []
  }
 ],
 "metadata": {
  "kernelspec": {
   "display_name": "Python 3",
   "language": "python",
   "name": "python3"
  },
  "language_info": {
   "codemirror_mode": {
    "name": "ipython",
    "version": 3
   },
   "file_extension": ".py",
   "mimetype": "text/x-python",
   "name": "python",
   "nbconvert_exporter": "python",
   "pygments_lexer": "ipython3",
   "version": "3.6.10"
  }
 },
 "nbformat": 4,
 "nbformat_minor": 4
}
